{
 "cells": [
  {
   "cell_type": "markdown",
   "metadata": {},
   "source": [
    "# MBTA Stop API Demo\n",
    "Kaleb Kassaw | 28 July 2024\n",
    "\n",
    "Using the API calls from ```tools/mbta.py``` are easy:"
   ]
  },
  {
   "cell_type": "code",
   "execution_count": 1,
   "metadata": {},
   "outputs": [],
   "source": [
    "import numpy as np\n",
    "import pandas as pd\n",
    "import requests\n",
    "import json\n",
    "import time\n",
    "from copy import deepcopy\n",
    "from tools.mbta import *"
   ]
  },
  {
   "cell_type": "markdown",
   "metadata": {},
   "source": [
    "First, initialize the ```Stops``` object from ```tools/mbta.py```, and define a set of latitude/longitude coordinates for a desired location. We'll use a random location in Assembly Square to start."
   ]
  },
  {
   "cell_type": "code",
   "execution_count": 2,
   "metadata": {},
   "outputs": [],
   "source": [
    "stop_df = Stops()\n",
    "sample_spot_assem = [42.3928361475846, -71.07775790022082]"
   ]
  },
  {
   "cell_type": "markdown",
   "metadata": {},
   "source": [
    "We'll then use the ```localize``` built-in method of ```stop_df``` to define nearby T stops within this location. This function takes four arguments:\n",
    "- ```coords```: coordinates in two-length list, e.g., [42.39, -71.08].\n",
    "- ```vehicle```: type of vehicle to search for. Options are ```rapid``` for Red/Orange/Blue/Green/Silver, ```bus``` for (other) buses, and ```commuter``` for Commuter Rail. Defaults to ```rapid```.\n",
    "- ```dist```: search radius in miles from the desired location. Defaults to ```1``` (mile).\n",
    "- ```full```: write full output from MBTA API. Defaults to ```False```."
   ]
  },
  {
   "cell_type": "code",
   "execution_count": 3,
   "metadata": {},
   "outputs": [
    {
     "data": {
      "text/html": [
       "<div>\n",
       "<style scoped>\n",
       "    .dataframe tbody tr th:only-of-type {\n",
       "        vertical-align: middle;\n",
       "    }\n",
       "\n",
       "    .dataframe tbody tr th {\n",
       "        vertical-align: top;\n",
       "    }\n",
       "\n",
       "    .dataframe thead th {\n",
       "        text-align: right;\n",
       "    }\n",
       "</style>\n",
       "<table border=\"1\" class=\"dataframe\">\n",
       "  <thead>\n",
       "    <tr style=\"text-align: right;\">\n",
       "      <th></th>\n",
       "      <th>name</th>\n",
       "      <th>description</th>\n",
       "      <th>dist</th>\n",
       "      <th>waits</th>\n",
       "    </tr>\n",
       "    <tr>\n",
       "      <th>id</th>\n",
       "      <th></th>\n",
       "      <th></th>\n",
       "      <th></th>\n",
       "      <th></th>\n",
       "    </tr>\n",
       "  </thead>\n",
       "  <tbody>\n",
       "    <tr>\n",
       "      <th>70278</th>\n",
       "      <td>Assembly</td>\n",
       "      <td>Assembly - Orange Line - Forest Hills</td>\n",
       "      <td>0.042979</td>\n",
       "      <td>[0, 13, 26]</td>\n",
       "    </tr>\n",
       "    <tr>\n",
       "      <th>70279</th>\n",
       "      <td>Assembly</td>\n",
       "      <td>Assembly - Orange Line - Oak Grove</td>\n",
       "      <td>0.045314</td>\n",
       "      <td>[11, 24]</td>\n",
       "    </tr>\n",
       "  </tbody>\n",
       "</table>\n",
       "</div>"
      ],
      "text/plain": [
       "           name                            description      dist        waits\n",
       "id                                                                           \n",
       "70278  Assembly  Assembly - Orange Line - Forest Hills  0.042979  [0, 13, 26]\n",
       "70279  Assembly     Assembly - Orange Line - Oak Grove  0.045314     [11, 24]"
      ]
     },
     "metadata": {},
     "output_type": "display_data"
    }
   ],
   "source": [
    "locals = stop_df.localize(sample_spot_assem, 'rapid', 0.4)\n",
    "locals = schedule_for_stops(locals)\n",
    "display(locals)"
   ]
  },
  {
   "cell_type": "markdown",
   "metadata": {},
   "source": [
    "A quick read returns the desired attributes. (We'll work on parsing line names later on, but for now, read descriptions where available.) ```name``` is the name of the T stop, ```description``` gives a description for certain stops on certain routes, ```dist``` refers to the distance in miles to each stop, and ```waits``` reflect the time (in minutes) of the next few stops. The ```schedule_for_stops``` method takes an optional argument ```next_min``` that allows you to view more/fewer trains than in the default next 30 minutes."
   ]
  },
  {
   "cell_type": "markdown",
   "metadata": {},
   "source": [
    "Please submit feature requests!"
   ]
  }
 ],
 "metadata": {
  "kernelspec": {
   "display_name": "base",
   "language": "python",
   "name": "python3"
  },
  "language_info": {
   "codemirror_mode": {
    "name": "ipython",
    "version": 3
   },
   "file_extension": ".py",
   "mimetype": "text/x-python",
   "name": "python",
   "nbconvert_exporter": "python",
   "pygments_lexer": "ipython3",
   "version": "3.11.7"
  }
 },
 "nbformat": 4,
 "nbformat_minor": 2
}
